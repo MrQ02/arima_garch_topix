{
 "cells": [
  {
   "cell_type": "markdown",
   "metadata": {},
   "source": [
    "# ARIMA-GARCH Model for TOPIX Forecasting"
   ]
  },
  {
   "cell_type": "markdown",
   "metadata": {},
   "source": [
    "Name: Renyi Qu\n",
    "\n",
    "Institution: Keio University\n",
    "\n",
    "Date: January 14th, 2021\n",
    "\n",
    "Supervisor: Prof. Yoann Potiron"
   ]
  },
  {
   "cell_type": "markdown",
   "metadata": {},
   "source": [
    "### (1) Import packages"
   ]
  },
  {
   "cell_type": "code",
   "execution_count": 48,
   "metadata": {},
   "outputs": [],
   "source": [
    "import warnings\n",
    "warnings.filterwarnings('ignore')\n",
    "import datetime\n",
    "import numpy as np\n",
    "import pandas as pd\n",
    "import matplotlib.pyplot as plt\n",
    "from statsmodels.tsa.arima_model import ARIMA\n",
    "from statsmodels.graphics.tsaplots import plot_acf,plot_pacf\n",
    "from statsmodels.tsa.stattools import adfuller\n",
    "from arch import arch_model"
   ]
  },
  {
   "cell_type": "markdown",
   "metadata": {},
   "source": [
    "### (2) Read data"
   ]
  },
  {
   "cell_type": "markdown",
   "metadata": {},
   "source": [
    "I hesitated between using the stock price or the stock return as the time series data for this project, but the ADF test confirmed that $d=1$ is sufficient for using the stock price.\n",
    "\n",
    "Also, open, high, and low prices are ignored. Only the close prices are used."
   ]
  },
  {
   "cell_type": "code",
   "execution_count": 230,
   "metadata": {},
   "outputs": [
    {
     "data": {
      "text/html": [
       "<div>\n",
       "<style scoped>\n",
       "    .dataframe tbody tr th:only-of-type {\n",
       "        vertical-align: middle;\n",
       "    }\n",
       "\n",
       "    .dataframe tbody tr th {\n",
       "        vertical-align: top;\n",
       "    }\n",
       "\n",
       "    .dataframe thead th {\n",
       "        text-align: right;\n",
       "    }\n",
       "</style>\n",
       "<table border=\"1\" class=\"dataframe\">\n",
       "  <thead>\n",
       "    <tr style=\"text-align: right;\">\n",
       "      <th></th>\n",
       "      <th>TOPIX</th>\n",
       "    </tr>\n",
       "    <tr>\n",
       "      <th>Date</th>\n",
       "      <th></th>\n",
       "    </tr>\n",
       "  </thead>\n",
       "  <tbody>\n",
       "    <tr>\n",
       "      <th>11/2/2015</th>\n",
       "      <td>1526.97</td>\n",
       "    </tr>\n",
       "    <tr>\n",
       "      <th>11/4/2015</th>\n",
       "      <td>1540.43</td>\n",
       "    </tr>\n",
       "    <tr>\n",
       "      <th>11/5/2015</th>\n",
       "      <td>1555.10</td>\n",
       "    </tr>\n",
       "    <tr>\n",
       "      <th>11/6/2015</th>\n",
       "      <td>1563.59</td>\n",
       "    </tr>\n",
       "    <tr>\n",
       "      <th>11/9/2015</th>\n",
       "      <td>1590.97</td>\n",
       "    </tr>\n",
       "    <tr>\n",
       "      <th>...</th>\n",
       "      <td>...</td>\n",
       "    </tr>\n",
       "    <tr>\n",
       "      <th>12/9/2020</th>\n",
       "      <td>1779.42</td>\n",
       "    </tr>\n",
       "    <tr>\n",
       "      <th>12/10/2020</th>\n",
       "      <td>1776.21</td>\n",
       "    </tr>\n",
       "    <tr>\n",
       "      <th>12/11/2020</th>\n",
       "      <td>1782.01</td>\n",
       "    </tr>\n",
       "    <tr>\n",
       "      <th>12/14/2020</th>\n",
       "      <td>1790.52</td>\n",
       "    </tr>\n",
       "    <tr>\n",
       "      <th>12/15/2020</th>\n",
       "      <td>1782.05</td>\n",
       "    </tr>\n",
       "  </tbody>\n",
       "</table>\n",
       "<p>1249 rows × 1 columns</p>\n",
       "</div>"
      ],
      "text/plain": [
       "              TOPIX\n",
       "Date               \n",
       "11/2/2015   1526.97\n",
       "11/4/2015   1540.43\n",
       "11/5/2015   1555.10\n",
       "11/6/2015   1563.59\n",
       "11/9/2015   1590.97\n",
       "...             ...\n",
       "12/9/2020   1779.42\n",
       "12/10/2020  1776.21\n",
       "12/11/2020  1782.01\n",
       "12/14/2020  1790.52\n",
       "12/15/2020  1782.05\n",
       "\n",
       "[1249 rows x 1 columns]"
      ]
     },
     "metadata": {},
     "output_type": "display_data"
    }
   ],
   "source": [
    "df = pd.read_csv(\"stock.csv\",index_col=\"Date\")[[\"TOPIX\"]]\n",
    "dates = np.array([datetime.datetime.strptime(date,\"%m/%d/%Y\") for date in pd.read_csv(\"stock.csv\")[\"Date\"].tolist()])\n",
    "topix = np.array(df[\"TOPIX\"].tolist())\n",
    "display(df)"
   ]
  },
  {
   "cell_type": "code",
   "execution_count": 187,
   "metadata": {},
   "outputs": [],
   "source": [
    "train = np.array(df[\"TOPIX\"].loc[:'10/30/2020'].tolist())\n",
    "test = np.array(df[\"TOPIX\"].loc['11/2/2020':].tolist())\n",
    "i = np.where(dates==datetime.datetime(2020,11,2))[0][0]\n",
    "train_dates = dates[:i]\n",
    "test_dates = dates[i:]"
   ]
  },
  {
   "cell_type": "code",
   "execution_count": 188,
   "metadata": {},
   "outputs": [
    {
     "data": {
      "image/png": "[encoded data removed]",
      "text/plain": [
       "<Figure size 720x360 with 1 Axes>"
      ]
     },
     "metadata": {
      "needs_background": "light"
     },
     "output_type": "display_data"
    }
   ],
   "source": [
    "plt.figure(figsize=(10,5))\n",
    "plt.plot(train_dates,train)\n",
    "plt.xlabel(\"Date\")\n",
    "plt.ylabel(\"Price\")\n",
    "plt.title(\"TOPIX Historical Price (2015-11-2 ~ 2020-10-30)\")\n",
    "plt.show()"
   ]
  },
  {
   "cell_type": "markdown",
   "metadata": {},
   "source": [
    "This obviously does not look stationary but we will run ADF test to confirm and find the optimal differencing number."
   ]
  },
  {
   "cell_type": "markdown",
   "metadata": {},
   "source": [
    "### (3) ADF test"
   ]
  },
  {
   "cell_type": "code",
   "execution_count": 189,
   "metadata": {},
   "outputs": [
    {
     "name": "stdout",
     "output_type": "stream",
     "text": [
      "ADF Statistic: -2.090613\n",
      "p-value: 0.248306\n"
     ]
    }
   ],
   "source": [
    "result = adfuller(train)\n",
    "print('ADF Statistic: %f' % result[0])\n",
    "print('p-value: %f' % result[1])"
   ]
  },
  {
   "cell_type": "markdown",
   "metadata": {},
   "source": [
    "The null hypothesis is not rejected. We cannot find stationarity."
   ]
  },
  {
   "cell_type": "code",
   "execution_count": 190,
   "metadata": {},
   "outputs": [],
   "source": [
    "def difference(series):\n",
    "    diff = []\n",
    "    for i in range(1,len(series)):\n",
    "        diff.append(series[i]-series[i-1])\n",
    "    diff.append(0)\n",
    "    result = adfuller(pd.Series(diff))\n",
    "    print('ADF Statistic: %f' % result[0])\n",
    "    print('p-value: %f' % result[1])\n",
    "    return pd.Series(diff)"
   ]
  },
  {
   "cell_type": "code",
   "execution_count": 191,
   "metadata": {},
   "outputs": [
    {
     "name": "stdout",
     "output_type": "stream",
     "text": [
      "ADF Statistic: -34.096132\n",
      "p-value: 0.000000\n"
     ]
    }
   ],
   "source": [
    "diff = difference(train)"
   ]
  },
  {
   "cell_type": "code",
   "execution_count": 192,
   "metadata": {},
   "outputs": [
    {
     "data": {
      "text/plain": [
       "Text(0.5, 0, 'Date')"
      ]
     },
     "execution_count": 192,
     "metadata": {},
     "output_type": "execute_result"
    },
    {
     "data": {
      "image/png": "[encoded data removed]",
      "text/plain": [
       "<Figure size 720x360 with 1 Axes>"
      ]
     },
     "metadata": {
      "needs_background": "light"
     },
     "output_type": "display_data"
    }
   ],
   "source": [
    "plt.figure(figsize=(10,5))\n",
    "plt.plot(train_dates,diff)\n",
    "plt.title(\"First Difference of TOPIX Historical Prices\")\n",
    "plt.ylabel(\"Difference\")\n",
    "plt.xlabel(\"Date\")"
   ]
  },
  {
   "cell_type": "markdown",
   "metadata": {},
   "source": [
    "The p-value is so small that the null hypothesis should be rejected. Differencing with degree $d=1$ leads to stationarity, and thus the order (p,1,q) is reasonable."
   ]
  },
  {
   "cell_type": "markdown",
   "metadata": {},
   "source": [
    "### (4) ACF and PACF"
   ]
  },
  {
   "cell_type": "code",
   "execution_count": 193,
   "metadata": {},
   "outputs": [
    {
     "data": {
      "image/png": "[encoded data removed]",
      "text/plain": [
       "<Figure size 432x288 with 1 Axes>"
      ]
     },
     "metadata": {
      "needs_background": "light"
     },
     "output_type": "display_data"
    }
   ],
   "source": [
    "acf = plot_acf(diff)"
   ]
  },
  {
   "cell_type": "code",
   "execution_count": 194,
   "metadata": {},
   "outputs": [
    {
     "data": {
      "image/png": "[encoded data removed]",
      "text/plain": [
       "<Figure size 432x288 with 1 Axes>"
      ]
     },
     "metadata": {
      "needs_background": "light"
     },
     "output_type": "display_data"
    }
   ],
   "source": [
    "pacf = plot_pacf(diff)"
   ]
  },
  {
   "cell_type": "markdown",
   "metadata": {},
   "source": [
    "Unfortunately, both ACF and PACF do not offer any valuable information, and therefore we cannot determine the order $p$ and $q$ from this method. This is also one key issue of stock price forecasting."
   ]
  },
  {
   "cell_type": "markdown",
   "metadata": {},
   "source": [
    "### (5) Model Selection & Fitting"
   ]
  },
  {
   "cell_type": "code",
   "execution_count": 195,
   "metadata": {},
   "outputs": [
    {
     "name": "stdout",
     "output_type": "stream",
     "text": [
      "                             ARIMA Model Results                              \n",
      "==============================================================================\n",
      "Dep. Variable:                    D.y   No. Observations:                 1218\n",
      "Model:                 ARIMA(3, 1, 3)   Log Likelihood               -5226.999\n",
      "Method:                           mle   S.D. of innovations             17.640\n",
      "Date:                Sat, 02 Jan 2021   AIC                          10467.997\n",
      "Time:                        15:13:31   BIC                          10503.732\n",
      "Sample:                             1   HQIC                         10481.449\n",
      "                                                                              \n",
      "==============================================================================\n",
      "                 coef    std err          z      P>|z|      [0.025      0.975]\n",
      "------------------------------------------------------------------------------\n",
      "ar.L1.D.y     -0.2045      0.007    -29.733      0.000      -0.218      -0.191\n",
      "ar.L2.D.y      0.2048      0.009     22.034      0.000       0.187       0.223\n",
      "ar.L3.D.y      0.9794      0.008    129.268      0.000       0.965       0.994\n",
      "ma.L1.D.y      0.2159      0.006     37.395      0.000       0.205       0.227\n",
      "ma.L2.D.y     -0.2159      0.006    -36.224      0.000      -0.228      -0.204\n",
      "ma.L3.D.y     -0.9999      0.005   -219.092      0.000      -1.009      -0.991\n",
      "                                    Roots                                    \n",
      "=============================================================================\n",
      "                  Real          Imaginary           Modulus         Frequency\n",
      "-----------------------------------------------------------------------------\n",
      "AR.1           -0.6077           -0.8032j            1.0072           -0.3531\n",
      "AR.2           -0.6077           +0.8032j            1.0072            0.3531\n",
      "AR.3            1.0064           -0.0000j            1.0064           -0.0000\n",
      "MA.1           -0.6080           -0.7940j            1.0000           -0.3540\n",
      "MA.2           -0.6080           +0.7940j            1.0000            0.3540\n",
      "MA.3            1.0000           -0.0000j            1.0000           -0.0000\n",
      "-----------------------------------------------------------------------------\n"
     ]
    }
   ],
   "source": [
    "best_arima = ARIMA(train,order=(3,1,3)).fit(method='mle',trend='nc')\n",
    "print(best_arima.summary())"
   ]
  },
  {
   "cell_type": "code",
   "execution_count": 220,
   "metadata": {},
   "outputs": [],
   "source": [
    "def best_garch(resid):\n",
    "    best_bic = 99999\n",
    "    for p in range(1,6):\n",
    "        for q in range(1,6):\n",
    "            garch = arch_model(resid,mean='Zero',p=p,q=q).fit()\n",
    "            current_bic = garch.bic\n",
    "            if current_bic < best_bic:\n",
    "                best_bic = current_bic\n",
    "                best_garch = garch\n",
    "    return best_garch"
   ]
  },
  {
   "cell_type": "code",
   "execution_count": 221,
   "metadata": {},
   "outputs": [
    {
     "name": "stdout",
     "output_type": "stream",
     "text": [
      "Iteration:      1,   Func. Count:      5,   Neg. LLF: 6999.051982946497\n",
      "Iteration:      2,   Func. Count:     10,   Neg. LLF: 5369.720560251837\n",
      "Iteration:      3,   Func. Count:     15,   Neg. LLF: 5117.464635632413\n",
      "Iteration:      4,   Func. Count:     20,   Neg. LLF: 5116.5045859281345\n",
      "Iteration:      5,   Func. Count:     24,   Neg. LLF: 5115.803365195679\n",
      "Iteration:      6,   Func. Count:     28,   Neg. LLF: 5115.290524974025\n",
      "Iteration:      7,   Func. Count:     32,   Neg. LLF: 5115.225195415543\n",
      "Iteration:      8,   Func. Count:     36,   Neg. LLF: 5115.208171577964\n",
      "Iteration:      9,   Func. Count:     40,   Neg. LLF: 5115.206093218085\n",
      "Iteration:     10,   Func. Count:     44,   Neg. LLF: 5115.205951781398\n",
      "Iteration:     11,   Func. Count:     47,   Neg. LLF: 5115.205951782361\n",
      "Optimization terminated successfully    (Exit mode 0)\n",
      "            Current function value: 5115.205951781398\n",
      "            Iterations: 11\n",
      "            Function evaluations: 47\n",
      "            Gradient evaluations: 11\n",
      "Iteration:      1,   Func. Count:      6,   Neg. LLF: 6994.001824463876\n",
      "Iteration:      2,   Func. Count:     12,   Neg. LLF: 5421.927357716346\n",
      "Iteration:      3,   Func. Count:     18,   Neg. LLF: 6239.0645342891485\n",
      "Iteration:      4,   Func. Count:     25,   Neg. LLF: 5117.359796533513\n",
      "Iteration:      5,   Func. Count:     31,   Neg. LLF: 5116.498565936718\n",
      "Iteration:      6,   Func. Count:     36,   Neg. LLF: 5116.407743302879\n",
      "Iteration:      7,   Func. Count:     41,   Neg. LLF: 5116.241107620326\n",
      "Iteration:      8,   Func. Count:     46,   Neg. LLF: 5115.819289180325\n",
      "Iteration:      9,   Func. Count:     51,   Neg. LLF: 5115.370711307301\n",
      "Iteration:     10,   Func. Count:     56,   Neg. LLF: 5115.259511397991\n",
      "Iteration:     11,   Func. Count:     61,   Neg. LLF: 5115.183977507468\n",
      "Iteration:     12,   Func. Count:     66,   Neg. LLF: 5115.182912926539\n",
      "Iteration:     13,   Func. Count:     71,   Neg. LLF: 5115.182869754826\n",
      "Iteration:     14,   Func. Count:     76,   Neg. LLF: 5115.18285877171\n",
      "Iteration:     15,   Func. Count:     80,   Neg. LLF: 5115.182858771756\n",
      "Optimization terminated successfully    (Exit mode 0)\n",
      "            Current function value: 5115.18285877171\n",
      "            Iterations: 15\n",
      "            Function evaluations: 80\n",
      "            Gradient evaluations: 15\n",
      "Iteration:      1,   Func. Count:      7,   Neg. LLF: 6990.539264376419\n",
      "Iteration:      2,   Func. Count:     14,   Neg. LLF: 5432.791821395741\n",
      "Iteration:      3,   Func. Count:     21,   Neg. LLF: 6176.662096536662\n",
      "Iteration:      4,   Func. Count:     29,   Neg. LLF: 5117.533427856023\n",
      "Iteration:      5,   Func. Count:     36,   Neg. LLF: 5115.781943169958\n",
      "Iteration:      6,   Func. Count:     42,   Neg. LLF: 5116.198342007237\n",
      "Iteration:      7,   Func. Count:     49,   Neg. LLF: 5115.602422751947\n",
      "Iteration:      8,   Func. Count:     55,   Neg. LLF: 5115.5529603967725\n",
      "Iteration:      9,   Func. Count:     61,   Neg. LLF: 5115.430284310825\n",
      "Iteration:     10,   Func. Count:     67,   Neg. LLF: 5114.8367876704415\n",
      "Iteration:     11,   Func. Count:     73,   Neg. LLF: 5114.724476100939\n",
      "Iteration:     12,   Func. Count:     79,   Neg. LLF: 5114.660017799521\n",
      "Iteration:     13,   Func. Count:     85,   Neg. LLF: 5114.6560725310155\n",
      "Iteration:     14,   Func. Count:     91,   Neg. LLF: 5114.655970502068\n",
      "Iteration:     15,   Func. Count:     97,   Neg. LLF: 5114.655957321116\n",
      "Iteration:     16,   Func. Count:    102,   Neg. LLF: 5114.655957320128\n",
      "Optimization terminated successfully    (Exit mode 0)\n",
      "            Current function value: 5114.655957321116\n",
      "            Iterations: 16\n",
      "            Function evaluations: 102\n",
      "            Gradient evaluations: 16\n",
      "Iteration:      1,   Func. Count:      8,   Neg. LLF: 6989.687819683653\n",
      "Iteration:      2,   Func. Count:     16,   Neg. LLF: 5503.123272036593\n",
      "Iteration:      3,   Func. Count:     24,   Neg. LLF: 6190.016318782957\n",
      "Iteration:      4,   Func. Count:     33,   Neg. LLF: 5118.232674068278\n",
      "Iteration:      5,   Func. Count:     40,   Neg. LLF: 5121.4388756500975\n",
      "Iteration:      6,   Func. Count:     48,   Neg. LLF: 5122.414769225939\n",
      "Iteration:      7,   Func. Count:     56,   Neg. LLF: 5114.909025617107\n",
      "Iteration:      8,   Func. Count:     63,   Neg. LLF: 5114.864088924318\n",
      "Iteration:      9,   Func. Count:     70,   Neg. LLF: 5114.704182313252\n",
      "Iteration:     10,   Func. Count:     77,   Neg. LLF: 5114.425163190279\n",
      "Iteration:     11,   Func. Count:     84,   Neg. LLF: 5114.112887914629\n",
      "Iteration:     12,   Func. Count:     91,   Neg. LLF: 5113.983715519826\n",
      "Iteration:     13,   Func. Count:     98,   Neg. LLF: 5113.914992254206\n",
      "Iteration:     14,   Func. Count:    105,   Neg. LLF: 5113.914103046617\n",
      "Iteration:     15,   Func. Count:    112,   Neg. LLF: 5113.913890252625\n",
      "Iteration:     16,   Func. Count:    119,   Neg. LLF: 5113.913882366804\n",
      "Iteration:     17,   Func. Count:    125,   Neg. LLF: 5113.913882366097\n",
      "Optimization terminated successfully    (Exit mode 0)\n",
      "            Current function value: 5113.913882366804\n",
      "            Iterations: 17\n",
      "            Function evaluations: 125\n",
      "            Gradient evaluations: 17\n",
      "Iteration:      1,   Func. Count:      9,   Neg. LLF: 6987.698988845383\n",
      "Iteration:      2,   Func. Count:     18,   Neg. LLF: 5512.455787827519\n",
      "Iteration:      3,   Func. Count:     27,   Neg. LLF: 6190.42662565919\n",
      "Iteration:      4,   Func. Count:     37,   Neg. LLF: 5118.597194253727\n",
      "Iteration:      5,   Func. Count:     46,   Neg. LLF: 5115.527535730211\n",
      "Iteration:      6,   Func. Count:     55,   Neg. LLF: 5112.475551874556\n",
      "Iteration:      7,   Func. Count:     63,   Neg. LLF: 5112.3072287754485\n",
      "Iteration:      8,   Func. Count:     71,   Neg. LLF: 5112.2698103960065\n",
      "Iteration:      9,   Func. Count:     79,   Neg. LLF: 5112.215469562234\n",
      "Iteration:     10,   Func. Count:     87,   Neg. LLF: 5112.004621524064\n",
      "Iteration:     11,   Func. Count:     95,   Neg. LLF: 5111.7577772141485\n",
      "Iteration:     12,   Func. Count:    103,   Neg. LLF: 5111.625226425807\n",
      "Iteration:     13,   Func. Count:    111,   Neg. LLF: 5111.586294318437\n",
      "Iteration:     14,   Func. Count:    119,   Neg. LLF: 5111.58146989723\n",
      "Iteration:     15,   Func. Count:    127,   Neg. LLF: 5111.581301320275\n",
      "Iteration:     16,   Func. Count:    135,   Neg. LLF: 5111.581289526968\n",
      "Iteration:     17,   Func. Count:    142,   Neg. LLF: 5111.581289527029\n",
      "Optimization terminated successfully    (Exit mode 0)\n",
      "            Current function value: 5111.581289526968\n",
      "            Iterations: 17\n",
      "            Function evaluations: 142\n",
      "            Gradient evaluations: 17\n",
      "Iteration:      1,   Func. Count:      6,   Neg. LLF: 6995.953648468472\n",
      "Iteration:      2,   Func. Count:     12,   Neg. LLF: 5135.911583316784\n",
      "Iteration:      3,   Func. Count:     19,   Neg. LLF: 5193.025524379276\n",
      "Iteration:      4,   Func. Count:     25,   Neg. LLF: 5117.553618900203\n",
      "Iteration:      5,   Func. Count:     31,   Neg. LLF: 5124.744037447709\n",
      "Iteration:      6,   Func. Count:     38,   Neg. LLF: 5117.026268006972\n",
      "Iteration:      7,   Func. Count:     44,   Neg. LLF: 5116.479751406678\n",
      "Iteration:      8,   Func. Count:     49,   Neg. LLF: 5116.065443591544\n",
      "Iteration:      9,   Func. Count:     54,   Neg. LLF: 5115.454551198186\n",
      "Iteration:     10,   Func. Count:     59,   Neg. LLF: 5115.220181044692\n",
      "Iteration:     11,   Func. Count:     64,   Neg. LLF: 5115.206934151751\n",
      "Iteration:     12,   Func. Count:     69,   Neg. LLF: 5115.205955770024\n",
      "Iteration:     13,   Func. Count:     74,   Neg. LLF: 5115.205951696202\n",
      "Iteration:     14,   Func. Count:     78,   Neg. LLF: 5115.205951696742\n",
      "Optimization terminated successfully    (Exit mode 0)\n",
      "            Current function value: 5115.205951696202\n",
      "            Iterations: 14\n",
      "            Function evaluations: 78\n",
      "            Gradient evaluations: 14\n",
      "Iteration:      1,   Func. Count:      7,   Neg. LLF: 5969.96955518667\n",
      "Iteration:      2,   Func. Count:     15,   Neg. LLF: 5178.564408177121\n",
      "Iteration:      3,   Func. Count:     23,   Neg. LLF: 5171.611779582977\n",
      "Iteration:      4,   Func. Count:     30,   Neg. LLF: 5130.513173378067\n",
      "Iteration:      5,   Func. Count:     37,   Neg. LLF: 5113.021616898311\n",
      "Iteration:      6,   Func. Count:     43,   Neg. LLF: 5113.040340958178\n",
      "Iteration:      7,   Func. Count:     50,   Neg. LLF: 5112.981498486432\n",
      "Iteration:      8,   Func. Count:     56,   Neg. LLF: 5112.963354451718\n",
      "Iteration:      9,   Func. Count:     62,   Neg. LLF: 5112.962239060229\n",
      "Iteration:     10,   Func. Count:     68,   Neg. LLF: 5112.955659659835\n",
      "Iteration:     11,   Func. Count:     74,   Neg. LLF: 5112.938253366559\n",
      "Iteration:     12,   Func. Count:     80,   Neg. LLF: 5112.927900942441\n",
      "Iteration:     13,   Func. Count:     86,   Neg. LLF: 5112.9217259792495\n",
      "Iteration:     14,   Func. Count:     92,   Neg. LLF: 5112.920710241053\n",
      "Iteration:     15,   Func. Count:     98,   Neg. LLF: 5112.920643726879\n",
      "Iteration:     16,   Func. Count:    104,   Neg. LLF: 5112.920641942358\n",
      "Iteration:     17,   Func. Count:    109,   Neg. LLF: 5112.920641942427\n",
      "Optimization terminated successfully    (Exit mode 0)\n",
      "            Current function value: 5112.920641942358\n",
      "            Iterations: 17\n",
      "            Function evaluations: 109\n",
      "            Gradient evaluations: 17\n",
      "Iteration:      1,   Func. Count:      8,   Neg. LLF: 5975.6744336148\n",
      "Iteration:      2,   Func. Count:     17,   Neg. LLF: 6115.589313391851\n",
      "Iteration:      3,   Func. Count:     26,   Neg. LLF: 5157.170552061221\n",
      "Iteration:      4,   Func. Count:     34,   Neg. LLF: 5113.023450439353\n",
      "Iteration:      5,   Func. Count:     41,   Neg. LLF: 5113.059983981246\n",
      "Iteration:      6,   Func. Count:     49,   Neg. LLF: 5112.972002287\n",
      "Iteration:      7,   Func. Count:     56,   Neg. LLF: 5112.967011597357\n",
      "Iteration:      8,   Func. Count:     63,   Neg. LLF: 5112.965665416001\n",
      "Iteration:      9,   Func. Count:     70,   Neg. LLF: 5112.957457416831\n",
      "Iteration:     10,   Func. Count:     77,   Neg. LLF: 5112.932322273029\n",
      "Iteration:     11,   Func. Count:     84,   Neg. LLF: 5112.923823215122\n",
      "Iteration:     12,   Func. Count:     91,   Neg. LLF: 5112.920912416181\n"
     ]
    },
    {
     "name": "stdout",
     "output_type": "stream",
     "text": [
      "Iteration:     13,   Func. Count:     98,   Neg. LLF: 5112.9206575571925\n",
      "Iteration:     14,   Func. Count:    105,   Neg. LLF: 5112.920641881275\n",
      "Iteration:     15,   Func. Count:    111,   Neg. LLF: 5112.920641987386\n",
      "Optimization terminated successfully    (Exit mode 0)\n",
      "            Current function value: 5112.920641881275\n",
      "            Iterations: 15\n",
      "            Function evaluations: 111\n",
      "            Gradient evaluations: 15\n",
      "Iteration:      1,   Func. Count:      9,   Neg. LLF: 9374.315674596368\n",
      "Iteration:      2,   Func. Count:     19,   Neg. LLF: 5632.899115169541\n",
      "Iteration:      3,   Func. Count:     29,   Neg. LLF: 5301.2784800771105\n",
      "Iteration:      4,   Func. Count:     39,   Neg. LLF: 5116.058053341767\n",
      "Iteration:      5,   Func. Count:     48,   Neg. LLF: 5118.527685054151\n",
      "Iteration:      6,   Func. Count:     57,   Neg. LLF: 5112.450447816859\n",
      "Iteration:      7,   Func. Count:     65,   Neg. LLF: 5112.449244958333\n",
      "Iteration:      8,   Func. Count:     74,   Neg. LLF: 5112.237395005792\n",
      "Iteration:      9,   Func. Count:     82,   Neg. LLF: 5112.139251273641\n",
      "Iteration:     10,   Func. Count:     90,   Neg. LLF: 5112.102003175092\n",
      "Iteration:     11,   Func. Count:     98,   Neg. LLF: 5112.097807697452\n",
      "Iteration:     12,   Func. Count:    106,   Neg. LLF: 5112.078662242904\n",
      "Iteration:     13,   Func. Count:    114,   Neg. LLF: 5112.060098150931\n",
      "Iteration:     14,   Func. Count:    122,   Neg. LLF: 5112.040065829817\n",
      "Iteration:     15,   Func. Count:    130,   Neg. LLF: 5112.033921523593\n",
      "Iteration:     16,   Func. Count:    138,   Neg. LLF: 5112.033039433622\n",
      "Iteration:     17,   Func. Count:    146,   Neg. LLF: 5112.032996197886\n",
      "Iteration:     18,   Func. Count:    153,   Neg. LLF: 5112.032996198213\n",
      "Optimization terminated successfully    (Exit mode 0)\n",
      "            Current function value: 5112.032996197886\n",
      "            Iterations: 18\n",
      "            Function evaluations: 153\n",
      "            Gradient evaluations: 18\n",
      "Iteration:      1,   Func. Count:     10,   Neg. LLF: 9392.722023994003\n",
      "Iteration:      2,   Func. Count:     21,   Neg. LLF: 5903.912179610337\n",
      "Iteration:      3,   Func. Count:     32,   Neg. LLF: 5361.448233655639\n",
      "Iteration:      4,   Func. Count:     43,   Neg. LLF: 5115.199825436081\n",
      "Iteration:      5,   Func. Count:     53,   Neg. LLF: 5113.268475475124\n",
      "Iteration:      6,   Func. Count:     63,   Neg. LLF: 5113.217285111031\n",
      "Iteration:      7,   Func. Count:     73,   Neg. LLF: 5110.505920065464\n",
      "Iteration:      8,   Func. Count:     82,   Neg. LLF: 5110.78207129646\n",
      "Iteration:      9,   Func. Count:     92,   Neg. LLF: 5110.480383746358\n",
      "Iteration:     10,   Func. Count:    102,   Neg. LLF: 5110.390885716533\n",
      "Iteration:     11,   Func. Count:    111,   Neg. LLF: 5110.378242947363\n",
      "Iteration:     12,   Func. Count:    120,   Neg. LLF: 5110.339732274114\n",
      "Iteration:     13,   Func. Count:    129,   Neg. LLF: 5110.308998174559\n",
      "Iteration:     14,   Func. Count:    138,   Neg. LLF: 5110.260112674321\n",
      "Iteration:     15,   Func. Count:    147,   Neg. LLF: 5110.25815629302\n",
      "Iteration:     16,   Func. Count:    156,   Neg. LLF: 5110.257998096105\n",
      "Iteration:     17,   Func. Count:    165,   Neg. LLF: 5110.257994280894\n",
      "Iteration:     18,   Func. Count:    173,   Neg. LLF: 5110.257994281373\n",
      "Optimization terminated successfully    (Exit mode 0)\n",
      "            Current function value: 5110.257994280894\n",
      "            Iterations: 18\n",
      "            Function evaluations: 173\n",
      "            Gradient evaluations: 18\n",
      "Iteration:      1,   Func. Count:      7,   Neg. LLF: 5959.10814982386\n",
      "Iteration:      2,   Func. Count:     15,   Neg. LLF: 5180.237371733017\n",
      "Iteration:      3,   Func. Count:     22,   Neg. LLF: 5129.9407677579875\n",
      "Iteration:      4,   Func. Count:     29,   Neg. LLF: 5117.7128683541905\n",
      "Iteration:      5,   Func. Count:     35,   Neg. LLF: 5118.391202477331\n",
      "Iteration:      6,   Func. Count:     42,   Neg. LLF: 5139.27895839534\n",
      "Iteration:      7,   Func. Count:     49,   Neg. LLF: 5116.491883071699\n",
      "Iteration:      8,   Func. Count:     55,   Neg. LLF: 5116.4249280024915\n",
      "Iteration:      9,   Func. Count:     61,   Neg. LLF: 5116.265043332077\n",
      "Iteration:     10,   Func. Count:     67,   Neg. LLF: 5115.5497900415785\n",
      "Iteration:     11,   Func. Count:     73,   Neg. LLF: 5115.237404770447\n",
      "Iteration:     12,   Func. Count:     79,   Neg. LLF: 5115.211044833166\n",
      "Iteration:     13,   Func. Count:     85,   Neg. LLF: 5115.206393899145\n",
      "Iteration:     14,   Func. Count:     91,   Neg. LLF: 5115.205961364174\n",
      "Iteration:     15,   Func. Count:     97,   Neg. LLF: 5115.205951654664\n",
      "Iteration:     16,   Func. Count:    102,   Neg. LLF: 5115.205951654872\n",
      "Optimization terminated successfully    (Exit mode 0)\n",
      "            Current function value: 5115.205951654664\n",
      "            Iterations: 16\n",
      "            Function evaluations: 102\n",
      "            Gradient evaluations: 16\n",
      "Iteration:      1,   Func. Count:      8,   Neg. LLF: 5969.152143122611\n",
      "Iteration:      2,   Func. Count:     17,   Neg. LLF: 5198.6057926075255\n",
      "Iteration:      3,   Func. Count:     26,   Neg. LLF: 5143.044665563601\n",
      "Iteration:      4,   Func. Count:     34,   Neg. LLF: 5114.104065057518\n",
      "Iteration:      5,   Func. Count:     41,   Neg. LLF: 5113.049930485581\n",
      "Iteration:      6,   Func. Count:     48,   Neg. LLF: 5113.030693649143\n",
      "Iteration:      7,   Func. Count:     56,   Neg. LLF: 5112.963656717669\n",
      "Iteration:      8,   Func. Count:     63,   Neg. LLF: 5112.962348691686\n",
      "Iteration:      9,   Func. Count:     70,   Neg. LLF: 5112.957845370585\n",
      "Iteration:     10,   Func. Count:     77,   Neg. LLF: 5112.949195012976\n",
      "Iteration:     11,   Func. Count:     84,   Neg. LLF: 5112.936412287798\n",
      "Iteration:     12,   Func. Count:     91,   Neg. LLF: 5112.925347744813\n",
      "Iteration:     13,   Func. Count:     98,   Neg. LLF: 5112.921091454235\n",
      "Iteration:     14,   Func. Count:    105,   Neg. LLF: 5112.920659451009\n",
      "Iteration:     15,   Func. Count:    112,   Neg. LLF: 5112.920642409928\n",
      "Iteration:     16,   Func. Count:    119,   Neg. LLF: 5112.920641872657\n",
      "Optimization terminated successfully    (Exit mode 0)\n",
      "            Current function value: 5112.920641872657\n",
      "            Iterations: 16\n",
      "            Function evaluations: 119\n",
      "            Gradient evaluations: 16\n",
      "Iteration:      1,   Func. Count:      9,   Neg. LLF: 5975.885032120309\n",
      "Iteration:      2,   Func. Count:     18,   Neg. LLF: 5336.332394990448\n",
      "Iteration:      3,   Func. Count:     28,   Neg. LLF: 5141.133607322325\n",
      "Iteration:      4,   Func. Count:     37,   Neg. LLF: 5256.338222202135\n",
      "Iteration:      5,   Func. Count:     46,   Neg. LLF: 5121.842932825186\n",
      "Iteration:      6,   Func. Count:     55,   Neg. LLF: 5129.716661298083\n",
      "Iteration:      7,   Func. Count:     64,   Neg. LLF: 5115.578134477445\n",
      "Iteration:      8,   Func. Count:     73,   Neg. LLF: 5114.273959972374\n",
      "Iteration:      9,   Func. Count:     81,   Neg. LLF: 5113.788080618002\n",
      "Iteration:     10,   Func. Count:     89,   Neg. LLF: 5113.444435547677\n",
      "Iteration:     11,   Func. Count:     97,   Neg. LLF: 5115.040943625771\n",
      "Iteration:     12,   Func. Count:    106,   Neg. LLF: 5113.686977743275\n",
      "Iteration:     13,   Func. Count:    115,   Neg. LLF: 5113.230969589155\n",
      "Iteration:     14,   Func. Count:    123,   Neg. LLF: 5950.282058313853\n",
      "Iteration:     15,   Func. Count:    133,   Neg. LLF: 5496.7498521393245\n",
      "Iteration:     16,   Func. Count:    143,   Neg. LLF: 5127.972794208708\n",
      "Iteration:     17,   Func. Count:    153,   Neg. LLF: 5113.187442815713\n",
      "Iteration:     18,   Func. Count:    162,   Neg. LLF: 5112.953279205574\n",
      "Iteration:     19,   Func. Count:    170,   Neg. LLF: 5112.952424450865\n",
      "Iteration:     20,   Func. Count:    178,   Neg. LLF: 5112.949441548968\n",
      "Iteration:     21,   Func. Count:    186,   Neg. LLF: 5112.942601956238\n",
      "Iteration:     22,   Func. Count:    194,   Neg. LLF: 5112.932942988717\n",
      "Iteration:     23,   Func. Count:    202,   Neg. LLF: 5112.924271975863\n",
      "Iteration:     24,   Func. Count:    210,   Neg. LLF: 5112.921068734634\n",
      "Iteration:     25,   Func. Count:    218,   Neg. LLF: 5112.920656853266\n",
      "Iteration:     26,   Func. Count:    226,   Neg. LLF: 5112.920641958629\n",
      "Iteration:     27,   Func. Count:    233,   Neg. LLF: 5112.920642064988\n",
      "Optimization terminated successfully    (Exit mode 0)\n",
      "            Current function value: 5112.920641958629\n",
      "            Iterations: 28\n",
      "            Function evaluations: 233\n",
      "            Gradient evaluations: 27\n",
      "Iteration:      1,   Func. Count:     10,   Neg. LLF: 5980.104631707389\n",
      "Iteration:      2,   Func. Count:     20,   Neg. LLF: 5534.612747483139\n",
      "Iteration:      3,   Func. Count:     30,   Neg. LLF: 5166.075648385602\n",
      "Iteration:      4,   Func. Count:     40,   Neg. LLF: 5420.586012901824\n",
      "Iteration:      5,   Func. Count:     50,   Neg. LLF: 5116.364675271068\n",
      "Iteration:      6,   Func. Count:     60,   Neg. LLF: 5259.535579699296\n",
      "Iteration:      7,   Func. Count:     70,   Neg. LLF: 5113.025015923388\n",
      "Iteration:      8,   Func. Count:     79,   Neg. LLF: 5113.8392506675555\n",
      "Iteration:      9,   Func. Count:     89,   Neg. LLF: 5112.784717802965\n",
      "Iteration:     10,   Func. Count:     98,   Neg. LLF: 5112.772835332973\n",
      "Iteration:     11,   Func. Count:    107,   Neg. LLF: 5112.771784930441\n",
      "Iteration:     12,   Func. Count:    116,   Neg. LLF: 5112.7687725729775\n",
      "Iteration:     13,   Func. Count:    125,   Neg. LLF: 5112.758633283672\n",
      "Iteration:     14,   Func. Count:    134,   Neg. LLF: 5112.745695217378\n"
     ]
    },
    {
     "name": "stdout",
     "output_type": "stream",
     "text": [
      "Iteration:     15,   Func. Count:    143,   Neg. LLF: 5112.736465429554\n",
      "Iteration:     16,   Func. Count:    152,   Neg. LLF: 5112.734598852824\n",
      "Iteration:     17,   Func. Count:    161,   Neg. LLF: 5112.7344420832915\n",
      "Iteration:     18,   Func. Count:    170,   Neg. LLF: 5112.734439624597\n",
      "Iteration:     19,   Func. Count:    178,   Neg. LLF: 5112.734439624663\n",
      "Optimization terminated successfully    (Exit mode 0)\n",
      "            Current function value: 5112.734439624597\n",
      "            Iterations: 19\n",
      "            Function evaluations: 178\n",
      "            Gradient evaluations: 19\n",
      "Iteration:      1,   Func. Count:     11,   Neg. LLF: 5983.649197449755\n",
      "Iteration:      2,   Func. Count:     22,   Neg. LLF: 5891.45849227136\n",
      "Iteration:      3,   Func. Count:     33,   Neg. LLF: 5303.038289069007\n",
      "Iteration:      4,   Func. Count:     44,   Neg. LLF: 5529.662877651861\n",
      "Iteration:      5,   Func. Count:     55,   Neg. LLF: 5116.973020673985\n",
      "Iteration:      6,   Func. Count:     66,   Neg. LLF: 5158.406659512983\n",
      "Iteration:      7,   Func. Count:     78,   Neg. LLF: 5116.749241072677\n",
      "Iteration:      8,   Func. Count:     89,   Neg. LLF: 5109.991471763649\n",
      "Iteration:      9,   Func. Count:     99,   Neg. LLF: 5109.960917512312\n",
      "Iteration:     10,   Func. Count:    109,   Neg. LLF: 5109.950706406209\n",
      "Iteration:     11,   Func. Count:    119,   Neg. LLF: 5109.944749309827\n",
      "Iteration:     12,   Func. Count:    129,   Neg. LLF: 5109.940133105137\n",
      "Iteration:     13,   Func. Count:    139,   Neg. LLF: 5109.939169011478\n",
      "Iteration:     14,   Func. Count:    149,   Neg. LLF: 5109.938677190075\n",
      "Iteration:     15,   Func. Count:    159,   Neg. LLF: 5109.937468129307\n",
      "Iteration:     16,   Func. Count:    169,   Neg. LLF: 5109.934803344543\n",
      "Iteration:     17,   Func. Count:    179,   Neg. LLF: 5109.929357420424\n",
      "Iteration:     18,   Func. Count:    189,   Neg. LLF: 5109.922762300983\n",
      "Iteration:     19,   Func. Count:    199,   Neg. LLF: 5109.918822283131\n",
      "Iteration:     20,   Func. Count:    209,   Neg. LLF: 5109.917981703575\n",
      "Iteration:     21,   Func. Count:    219,   Neg. LLF: 5109.917879426629\n",
      "Iteration:     22,   Func. Count:    229,   Neg. LLF: 5109.917877404931\n",
      "Iteration:     23,   Func. Count:    239,   Neg. LLF: 5109.917876957567\n",
      "Optimization terminated successfully    (Exit mode 0)\n",
      "            Current function value: 5109.917876957567\n",
      "            Iterations: 23\n",
      "            Function evaluations: 239\n",
      "            Gradient evaluations: 23\n",
      "Iteration:      1,   Func. Count:      8,   Neg. LLF: 5958.969591029972\n",
      "Iteration:      2,   Func. Count:     16,   Neg. LLF: 5177.387875972908\n",
      "Iteration:      3,   Func. Count:     24,   Neg. LLF: 5311.905163920439\n",
      "Iteration:      4,   Func. Count:     32,   Neg. LLF: 5117.354516969432\n",
      "Iteration:      5,   Func. Count:     39,   Neg. LLF: 5131.919846233346\n",
      "Iteration:      6,   Func. Count:     47,   Neg. LLF: 5141.1278457931785\n",
      "Iteration:      7,   Func. Count:     56,   Neg. LLF: 5116.780150899154\n",
      "Iteration:      8,   Func. Count:     64,   Neg. LLF: 5116.595894465237\n",
      "Iteration:      9,   Func. Count:     71,   Neg. LLF: 5116.496993419851\n",
      "Iteration:     10,   Func. Count:     78,   Neg. LLF: 5116.243485912159\n",
      "Iteration:     11,   Func. Count:     85,   Neg. LLF: 5115.81063682131\n",
      "Iteration:     12,   Func. Count:     92,   Neg. LLF: 5115.421674832318\n",
      "Iteration:     13,   Func. Count:     99,   Neg. LLF: 5115.212079472146\n",
      "Iteration:     14,   Func. Count:    106,   Neg. LLF: 5115.2060037711135\n",
      "Iteration:     15,   Func. Count:    113,   Neg. LLF: 5115.205962129818\n",
      "Iteration:     16,   Func. Count:    120,   Neg. LLF: 5115.20595326492\n",
      "Iteration:     17,   Func. Count:    127,   Neg. LLF: 5115.205951899565\n",
      "Iteration:     18,   Func. Count:    133,   Neg. LLF: 5115.205951898862\n",
      "Optimization terminated successfully    (Exit mode 0)\n",
      "            Current function value: 5115.205951899565\n",
      "            Iterations: 18\n",
      "            Function evaluations: 133\n",
      "            Gradient evaluations: 18\n",
      "Iteration:      1,   Func. Count:      9,   Neg. LLF: 5968.934633600549\n",
      "Iteration:      2,   Func. Count:     18,   Neg. LLF: 5216.248103440956\n",
      "Iteration:      3,   Func. Count:     27,   Neg. LLF: 5156.697883805738\n",
      "Iteration:      4,   Func. Count:     36,   Neg. LLF: 5174.231547622986\n",
      "Iteration:      5,   Func. Count:     45,   Neg. LLF: 5113.521034478746\n",
      "Iteration:      6,   Func. Count:     53,   Neg. LLF: 5113.291369154274\n",
      "Iteration:      7,   Func. Count:     61,   Neg. LLF: 5113.065401927522\n",
      "Iteration:      8,   Func. Count:     69,   Neg. LLF: 5112.973806767142\n",
      "Iteration:      9,   Func. Count:     77,   Neg. LLF: 5112.9463213321105\n",
      "Iteration:     10,   Func. Count:     85,   Neg. LLF: 5112.945209953268\n",
      "Iteration:     11,   Func. Count:     93,   Neg. LLF: 5112.9435207543465\n",
      "Iteration:     12,   Func. Count:    101,   Neg. LLF: 5112.939135451561\n",
      "Iteration:     13,   Func. Count:    109,   Neg. LLF: 5112.931933315893\n",
      "Iteration:     14,   Func. Count:    117,   Neg. LLF: 5112.924503859168\n",
      "Iteration:     15,   Func. Count:    125,   Neg. LLF: 5112.921220050402\n",
      "Iteration:     16,   Func. Count:    133,   Neg. LLF: 5112.920673990831\n",
      "Iteration:     17,   Func. Count:    141,   Neg. LLF: 5112.920642545521\n",
      "Iteration:     18,   Func. Count:    148,   Neg. LLF: 5112.920642545598\n",
      "Optimization terminated successfully    (Exit mode 0)\n",
      "            Current function value: 5112.920642545521\n",
      "            Iterations: 18\n",
      "            Function evaluations: 148\n",
      "            Gradient evaluations: 18\n",
      "Iteration:      1,   Func. Count:     10,   Neg. LLF: 5975.303667947136\n",
      "Iteration:      2,   Func. Count:     20,   Neg. LLF: 5426.560418594356\n",
      "Iteration:      3,   Func. Count:     30,   Neg. LLF: 5162.979198478461\n",
      "Iteration:      4,   Func. Count:     40,   Neg. LLF: 5352.381806518423\n",
      "Iteration:      5,   Func. Count:     50,   Neg. LLF: 5166.910671560017\n",
      "Iteration:      6,   Func. Count:     60,   Neg. LLF: 5114.31060716713\n",
      "Iteration:      7,   Func. Count:     69,   Neg. LLF: 5113.423784969029\n",
      "Iteration:      8,   Func. Count:     78,   Neg. LLF: 5113.164306596422\n",
      "Iteration:      9,   Func. Count:     87,   Neg. LLF: 5113.525460490964\n",
      "Iteration:     10,   Func. Count:     97,   Neg. LLF: 5112.967313102519\n",
      "Iteration:     11,   Func. Count:    106,   Neg. LLF: 5112.964326929847\n",
      "Iteration:     12,   Func. Count:    115,   Neg. LLF: 5112.962725625283\n",
      "Iteration:     13,   Func. Count:    124,   Neg. LLF: 5112.953602585303\n",
      "Iteration:     14,   Func. Count:    133,   Neg. LLF: 5112.941321290167\n",
      "Iteration:     15,   Func. Count:    142,   Neg. LLF: 5112.928305149644\n",
      "Iteration:     16,   Func. Count:    151,   Neg. LLF: 5112.921953902133\n",
      "Iteration:     17,   Func. Count:    160,   Neg. LLF: 5112.920707293377\n",
      "Iteration:     18,   Func. Count:    169,   Neg. LLF: 5112.920643181535\n",
      "Iteration:     19,   Func. Count:    178,   Neg. LLF: 5112.920641841495\n",
      "Iteration:     20,   Func. Count:    186,   Neg. LLF: 5112.920641947906\n",
      "Optimization terminated successfully    (Exit mode 0)\n",
      "            Current function value: 5112.920641841495\n",
      "            Iterations: 20\n",
      "            Function evaluations: 186\n",
      "            Gradient evaluations: 20\n",
      "Iteration:      1,   Func. Count:     11,   Neg. LLF: 5979.8806979538385\n",
      "Iteration:      2,   Func. Count:     22,   Neg. LLF: 5948.517624857191\n",
      "Iteration:      3,   Func. Count:     33,   Neg. LLF: 5176.241148288325\n",
      "Iteration:      4,   Func. Count:     44,   Neg. LLF: 5250.422343090451\n",
      "Iteration:      5,   Func. Count:     55,   Neg. LLF: 5177.684722277154\n",
      "Iteration:      6,   Func. Count:     66,   Neg. LLF: 5177.1346943245235\n",
      "Iteration:      7,   Func. Count:     77,   Neg. LLF: 5113.17514162503\n",
      "Iteration:      8,   Func. Count:     87,   Neg. LLF: 5112.330185526926\n",
      "Iteration:      9,   Func. Count:     97,   Neg. LLF: 5204.813363732336\n",
      "Iteration:     10,   Func. Count:    109,   Neg. LLF: 5112.204028637464\n",
      "Iteration:     11,   Func. Count:    119,   Neg. LLF: 5112.113634878504\n",
      "Iteration:     12,   Func. Count:    129,   Neg. LLF: 5112.110466339216\n",
      "Iteration:     13,   Func. Count:    139,   Neg. LLF: 5112.105535872445\n",
      "Iteration:     14,   Func. Count:    149,   Neg. LLF: 5112.090882429833\n",
      "Iteration:     15,   Func. Count:    159,   Neg. LLF: 5112.065037484939\n",
      "Iteration:     16,   Func. Count:    169,   Neg. LLF: 5112.032015347144\n",
      "Iteration:     17,   Func. Count:    179,   Neg. LLF: 5112.011862808367\n",
      "Iteration:     18,   Func. Count:    189,   Neg. LLF: 5112.008321788164\n",
      "Iteration:     19,   Func. Count:    199,   Neg. LLF: 5112.0080475791065\n",
      "Iteration:     20,   Func. Count:    209,   Neg. LLF: 5112.008036839839\n",
      "Iteration:     21,   Func. Count:    218,   Neg. LLF: 5112.008036840319\n",
      "Optimization terminated successfully    (Exit mode 0)\n",
      "            Current function value: 5112.008036839839\n",
      "            Iterations: 21\n",
      "            Function evaluations: 218\n",
      "            Gradient evaluations: 21\n",
      "Iteration:      1,   Func. Count:     12,   Neg. LLF: 5983.365051974971\n",
      "Iteration:      2,   Func. Count:     24,   Neg. LLF: 5956.574501616493\n",
      "Iteration:      3,   Func. Count:     36,   Neg. LLF: 5743.588326613604\n",
      "Iteration:      4,   Func. Count:     49,   Neg. LLF: 5211.304666554273\n",
      "Iteration:      5,   Func. Count:     61,   Neg. LLF: 5187.007852069\n",
      "Iteration:      6,   Func. Count:     73,   Neg. LLF: 5148.736995971334\n",
      "Iteration:      7,   Func. Count:     85,   Neg. LLF: 5117.431636951216\n",
      "Iteration:      8,   Func. Count:     97,   Neg. LLF: 5110.605877878013\n",
      "Iteration:      9,   Func. Count:    108,   Neg. LLF: 5109.978217774498\n",
      "Iteration:     10,   Func. Count:    119,   Neg. LLF: 5109.951834512425\n",
      "Iteration:     11,   Func. Count:    130,   Neg. LLF: 5109.940902840179\n",
      "Iteration:     12,   Func. Count:    141,   Neg. LLF: 5109.938599697296\n",
      "Iteration:     13,   Func. Count:    152,   Neg. LLF: 5109.937838152272\n",
      "Iteration:     14,   Func. Count:    163,   Neg. LLF: 5109.937470344189\n",
      "Iteration:     15,   Func. Count:    174,   Neg. LLF: 5109.935155027876\n",
      "Iteration:     16,   Func. Count:    185,   Neg. LLF: 5109.928319962324\n",
      "Iteration:     17,   Func. Count:    196,   Neg. LLF: 5109.923037242788\n",
      "Iteration:     18,   Func. Count:    207,   Neg. LLF: 5109.919013130058\n",
      "Iteration:     19,   Func. Count:    218,   Neg. LLF: 5109.917979702074\n",
      "Iteration:     20,   Func. Count:    229,   Neg. LLF: 5109.917897461133\n",
      "Iteration:     21,   Func. Count:    240,   Neg. LLF: 5109.917877135595\n",
      "Iteration:     22,   Func. Count:    250,   Neg. LLF: 5109.917877135895\n",
      "Optimization terminated successfully    (Exit mode 0)\n",
      "            Current function value: 5109.917877135595\n",
      "            Iterations: 22\n",
      "            Function evaluations: 250\n",
      "            Gradient evaluations: 22\n",
      "Iteration:      1,   Func. Count:      9,   Neg. LLF: 5958.52792756369\n",
      "Iteration:      2,   Func. Count:     18,   Neg. LLF: 5186.8055179910925\n",
      "Iteration:      3,   Func. Count:     27,   Neg. LLF: 5312.342615712374\n",
      "Iteration:      4,   Func. Count:     36,   Neg. LLF: 5117.2918062934605\n"
     ]
    },
    {
     "name": "stdout",
     "output_type": "stream",
     "text": [
      "Iteration:      5,   Func. Count:     44,   Neg. LLF: 5132.71321994827\n",
      "Iteration:      6,   Func. Count:     53,   Neg. LLF: 5146.4314881640385\n",
      "Iteration:      7,   Func. Count:     63,   Neg. LLF: 5117.01597900199\n",
      "Iteration:      8,   Func. Count:     72,   Neg. LLF: 5116.589819351728\n",
      "Iteration:      9,   Func. Count:     80,   Neg. LLF: 5116.475117578253\n",
      "Iteration:     10,   Func. Count:     88,   Neg. LLF: 5116.235391495535\n",
      "Iteration:     11,   Func. Count:     96,   Neg. LLF: 5115.805262424068\n",
      "Iteration:     12,   Func. Count:    104,   Neg. LLF: 5115.422016771231\n",
      "Iteration:     13,   Func. Count:    112,   Neg. LLF: 5115.212480753907\n",
      "Iteration:     14,   Func. Count:    120,   Neg. LLF: 5115.206262762585\n",
      "Iteration:     15,   Func. Count:    128,   Neg. LLF: 5115.206056171402\n",
      "Iteration:     16,   Func. Count:    136,   Neg. LLF: 5115.205953243263\n",
      "Iteration:     17,   Func. Count:    144,   Neg. LLF: 5115.205951676653\n",
      "Iteration:     18,   Func. Count:    151,   Neg. LLF: 5115.205951676842\n",
      "Optimization terminated successfully    (Exit mode 0)\n",
      "            Current function value: 5115.205951676653\n",
      "            Iterations: 18\n",
      "            Function evaluations: 151\n",
      "            Gradient evaluations: 18\n",
      "Iteration:      1,   Func. Count:     10,   Neg. LLF: 5967.00951426708\n",
      "Iteration:      2,   Func. Count:     20,   Neg. LLF: 5215.771611501987\n",
      "Iteration:      3,   Func. Count:     30,   Neg. LLF: 5150.60708549009\n",
      "Iteration:      4,   Func. Count:     40,   Neg. LLF: 5465.539502948301\n",
      "Iteration:      5,   Func. Count:     50,   Neg. LLF: 5113.210108385259\n",
      "Iteration:      6,   Func. Count:     59,   Neg. LLF: 5114.200859755789\n",
      "Iteration:      7,   Func. Count:     69,   Neg. LLF: 5113.101061661073\n",
      "Iteration:      8,   Func. Count:     78,   Neg. LLF: 5112.948138595721\n",
      "Iteration:      9,   Func. Count:     87,   Neg. LLF: 5112.940292149864\n",
      "Iteration:     10,   Func. Count:     96,   Neg. LLF: 9109.945384173687\n",
      "Iteration:     11,   Func. Count:    109,   Neg. LLF: 5170.566871208481\n",
      "Iteration:     12,   Func. Count:    121,   Neg. LLF: 5119.880762813323\n",
      "Iteration:     13,   Func. Count:    133,   Neg. LLF: 5112.939478474262\n",
      "Iteration:     14,   Func. Count:    142,   Neg. LLF: 5112.937454464544\n",
      "Iteration:     15,   Func. Count:    151,   Neg. LLF: 5112.929512175487\n",
      "Iteration:     16,   Func. Count:    160,   Neg. LLF: 5112.920649483734\n",
      "Iteration:     17,   Func. Count:    169,   Neg. LLF: 5112.920641816945\n",
      "Iteration:     18,   Func. Count:    177,   Neg. LLF: 5112.92064181679\n",
      "Optimization terminated successfully    (Exit mode 0)\n",
      "            Current function value: 5112.920641816945\n",
      "            Iterations: 19\n",
      "            Function evaluations: 177\n",
      "            Gradient evaluations: 18\n",
      "Iteration:      1,   Func. Count:     11,   Neg. LLF: 5972.776939719024\n",
      "Iteration:      2,   Func. Count:     22,   Neg. LLF: 5429.064810821148\n",
      "Iteration:      3,   Func. Count:     33,   Neg. LLF: 5211.729202210758\n",
      "Iteration:      4,   Func. Count:     44,   Neg. LLF: 5285.718533429785\n",
      "Iteration:      5,   Func. Count:     55,   Neg. LLF: 5177.008731119922\n",
      "Iteration:      6,   Func. Count:     66,   Neg. LLF: 5114.532492832222\n",
      "Iteration:      7,   Func. Count:     76,   Neg. LLF: 5115.10528326715\n",
      "Iteration:      8,   Func. Count:     87,   Neg. LLF: 5116.913297690417\n",
      "Iteration:      9,   Func. Count:     98,   Neg. LLF: 5113.12355908384\n",
      "Iteration:     10,   Func. Count:    108,   Neg. LLF: 5112.977219833954\n",
      "Iteration:     11,   Func. Count:    118,   Neg. LLF: 5112.965291665839\n",
      "Iteration:     12,   Func. Count:    128,   Neg. LLF: 5112.961931931038\n",
      "Iteration:     13,   Func. Count:    138,   Neg. LLF: 5112.958297746756\n",
      "Iteration:     14,   Func. Count:    148,   Neg. LLF: 5112.956427551357\n",
      "Iteration:     15,   Func. Count:    158,   Neg. LLF: 5112.949046673897\n",
      "Iteration:     16,   Func. Count:    168,   Neg. LLF: 5112.939094865204\n",
      "Iteration:     17,   Func. Count:    178,   Neg. LLF: 5112.926587160704\n",
      "Iteration:     18,   Func. Count:    188,   Neg. LLF: 5112.921628698322\n",
      "Iteration:     19,   Func. Count:    198,   Neg. LLF: 5112.920698964267\n",
      "Iteration:     20,   Func. Count:    208,   Neg. LLF: 5112.92065624982\n",
      "Iteration:     21,   Func. Count:    218,   Neg. LLF: 5113.2648295056315\n",
      "Optimization terminated successfully    (Exit mode 0)\n",
      "            Current function value: 5112.920656240574\n",
      "            Iterations: 22\n",
      "            Function evaluations: 222\n",
      "            Gradient evaluations: 21\n",
      "Iteration:      1,   Func. Count:     12,   Neg. LLF: 5976.761034556533\n",
      "Iteration:      2,   Func. Count:     24,   Neg. LLF: 5948.443688561454\n",
      "Iteration:      3,   Func. Count:     36,   Neg. LLF: 5181.90720549517\n",
      "Iteration:      4,   Func. Count:     48,   Neg. LLF: 5225.515162762986\n",
      "Iteration:      5,   Func. Count:     60,   Neg. LLF: 5187.17107826632\n",
      "Iteration:      6,   Func. Count:     72,   Neg. LLF: 5141.1909940571095\n",
      "Iteration:      7,   Func. Count:     84,   Neg. LLF: 5113.473381815296\n",
      "Iteration:      8,   Func. Count:     95,   Neg. LLF: 5113.129925517102\n",
      "Iteration:      9,   Func. Count:    106,   Neg. LLF: 5113.139670117027\n",
      "Iteration:     10,   Func. Count:    118,   Neg. LLF: 5112.809937059941\n",
      "Iteration:     11,   Func. Count:    129,   Neg. LLF: 5112.793323043892\n",
      "Iteration:     12,   Func. Count:    140,   Neg. LLF: 5112.786570227922\n",
      "Iteration:     13,   Func. Count:    151,   Neg. LLF: 5112.783649484533\n",
      "Iteration:     14,   Func. Count:    162,   Neg. LLF: 5112.780557072612\n",
      "Iteration:     15,   Func. Count:    173,   Neg. LLF: 5112.775562229746\n",
      "Iteration:     16,   Func. Count:    184,   Neg. LLF: 5112.765632874455\n",
      "Iteration:     17,   Func. Count:    195,   Neg. LLF: 5112.751359567675\n",
      "Iteration:     18,   Func. Count:    206,   Neg. LLF: 5112.739339022786\n",
      "Iteration:     19,   Func. Count:    217,   Neg. LLF: 5112.73477478403\n",
      "Iteration:     20,   Func. Count:    228,   Neg. LLF: 5112.734446363758\n",
      "Iteration:     21,   Func. Count:    239,   Neg. LLF: 5112.734439635836\n",
      "Iteration:     22,   Func. Count:    249,   Neg. LLF: 5112.73443963596\n",
      "Optimization terminated successfully    (Exit mode 0)\n",
      "            Current function value: 5112.734439635836\n",
      "            Iterations: 22\n",
      "            Function evaluations: 249\n",
      "            Gradient evaluations: 22\n",
      "Iteration:      1,   Func. Count:     13,   Neg. LLF: 5980.1941750870665\n",
      "Iteration:      2,   Func. Count:     26,   Neg. LLF: 5955.73871519579\n",
      "Iteration:      3,   Func. Count:     39,   Neg. LLF: 5154.3439807629975\n",
      "Iteration:      4,   Func. Count:     52,   Neg. LLF: 5311.506755168059\n",
      "Iteration:      5,   Func. Count:     65,   Neg. LLF: 5272.677798308721\n",
      "Iteration:      6,   Func. Count:     78,   Neg. LLF: 5379.947894456502\n",
      "Iteration:      7,   Func. Count:     92,   Neg. LLF: 5111.398836259008\n",
      "Iteration:      8,   Func. Count:    104,   Neg. LLF: 5126.773470812902\n",
      "Iteration:      9,   Func. Count:    117,   Neg. LLF: 5115.410405460456\n",
      "Iteration:     10,   Func. Count:    130,   Neg. LLF: 5110.058603614654\n",
      "Iteration:     11,   Func. Count:    142,   Neg. LLF: 5110.104604770082\n",
      "Iteration:     12,   Func. Count:    155,   Neg. LLF: 5109.952522427167\n",
      "Iteration:     13,   Func. Count:    167,   Neg. LLF: 5109.9368850061\n",
      "Iteration:     14,   Func. Count:    179,   Neg. LLF: 5109.934835262948\n",
      "Iteration:     15,   Func. Count:    191,   Neg. LLF: 5109.93422198523\n",
      "Iteration:     16,   Func. Count:    203,   Neg. LLF: 5109.933868511498\n",
      "Iteration:     17,   Func. Count:    215,   Neg. LLF: 5109.933125149067\n",
      "Iteration:     18,   Func. Count:    227,   Neg. LLF: 5109.931601792734\n",
      "Iteration:     19,   Func. Count:    239,   Neg. LLF: 5109.928735868281\n",
      "Iteration:     20,   Func. Count:    251,   Neg. LLF: 5109.92435285578\n",
      "Iteration:     21,   Func. Count:    263,   Neg. LLF: 5109.919855747243\n",
      "Iteration:     22,   Func. Count:    275,   Neg. LLF: 5109.918062902661\n",
      "Iteration:     23,   Func. Count:    287,   Neg. LLF: 5109.917881158364\n",
      "Iteration:     24,   Func. Count:    299,   Neg. LLF: 5109.917876944167\n",
      "Iteration:     25,   Func. Count:    310,   Neg. LLF: 5109.917876944114\n",
      "Optimization terminated successfully    (Exit mode 0)\n",
      "            Current function value: 5109.917876944167\n",
      "            Iterations: 25\n",
      "            Function evaluations: 310\n",
      "            Gradient evaluations: 25\n",
      "                       Zero Mean - GARCH Model Results                        \n",
      "==============================================================================\n",
      "Dep. Variable:                      y   R-squared:                       0.000\n",
      "Mean Model:                 Zero Mean   Adj. R-squared:                  0.001\n",
      "Vol Model:                      GARCH   Log-Likelihood:               -5115.21\n",
      "Distribution:                  Normal   AIC:                           10236.4\n",
      "Method:            Maximum Likelihood   BIC:                           10251.7\n",
      "                                        No. Observations:                 1218\n",
      "Date:                Sat, Jan 02 2021   Df Residuals:                     1215\n",
      "Time:                        15:30:16   Df Model:                            3\n",
      "                             Volatility Model                             \n",
      "==========================================================================\n",
      "                 coef    std err          t      P>|t|    95.0% Conf. Int.\n",
      "--------------------------------------------------------------------------\n",
      "omega         18.5183      9.989      1.854  6.375e-02   [ -1.059, 38.095]\n",
      "alpha[1]       0.1286  3.870e-02      3.323  8.914e-04 [5.273e-02,  0.204]\n",
      "beta[1]        0.8121  6.636e-02     12.238  1.953e-34   [  0.682,  0.942]\n",
      "==========================================================================\n",
      "\n",
      "Covariance estimator: robust\n"
     ]
    }
   ],
   "source": [
    "print(best_garch(best_arima.resid).summary())"
   ]
  },
  {
   "cell_type": "code",
   "execution_count": 222,
   "metadata": {},
   "outputs": [
    {
     "name": "stdout",
     "output_type": "stream",
     "text": [
      "Iteration:      1,   Func. Count:      5,   Neg. LLF: 6999.051982946497\n",
      "Iteration:      2,   Func. Count:     10,   Neg. LLF: 5369.720560251837\n",
      "Iteration:      3,   Func. Count:     15,   Neg. LLF: 5117.464635632413\n",
      "Iteration:      4,   Func. Count:     20,   Neg. LLF: 5116.5045859281345\n",
      "Iteration:      5,   Func. Count:     24,   Neg. LLF: 5115.803365195679\n",
      "Iteration:      6,   Func. Count:     28,   Neg. LLF: 5115.290524974025\n",
      "Iteration:      7,   Func. Count:     32,   Neg. LLF: 5115.225195415543\n",
      "Iteration:      8,   Func. Count:     36,   Neg. LLF: 5115.208171577964\n",
      "Iteration:      9,   Func. Count:     40,   Neg. LLF: 5115.206093218085\n",
      "Iteration:     10,   Func. Count:     44,   Neg. LLF: 5115.205951781398\n",
      "Iteration:     11,   Func. Count:     47,   Neg. LLF: 5115.205951782361\n",
      "Optimization terminated successfully    (Exit mode 0)\n",
      "            Current function value: 5115.205951781398\n",
      "            Iterations: 11\n",
      "            Function evaluations: 47\n",
      "            Gradient evaluations: 11\n"
     ]
    }
   ],
   "source": [
    "best_garch = arch_model(best_arima.resid,mean='Zero',p=1,q=1).fit(disp='off')"
   ]
  },
  {
   "cell_type": "code",
   "execution_count": 223,
   "metadata": {},
   "outputs": [
    {
     "name": "stdout",
     "output_type": "stream",
     "text": [
      "[ 13.46        14.56929556   8.56019403 ...  -5.20081947  -1.56647873\n",
      " -30.5358119 ]\n"
     ]
    }
   ],
   "source": [
    "print(best_arima.resid)"
   ]
  },
  {
   "cell_type": "markdown",
   "metadata": {},
   "source": [
    "### (6) Forecasting"
   ]
  },
  {
   "cell_type": "code",
   "execution_count": 238,
   "metadata": {},
   "outputs": [],
   "source": [
    "mean,volatility = [],[]\n",
    "test_size = 30\n",
    "for i in range(test_size):\n",
    "    train = topix[:-(test_size-i)]\n",
    "    model_arima = ARIMA(train,order=(3,1,3)).fit(method='mle',trend='nc')\n",
    "    residuals = model_arima.resid\n",
    "    forecast_mean = model_arima.forecast(steps=1)[0]\n",
    "    model_garch = arch_model(residuals,mean='Zero',p=1,q=1).fit(disp='off')\n",
    "    forecast_volatility = np.sqrt(model_garch.forecast(horizon=1).variance.values[-1,:][0])\n",
    "    mean.append(forecast_mean)\n",
    "    volatility.append(forecast_volatility)"
   ]
  },
  {
   "cell_type": "code",
   "execution_count": 277,
   "metadata": {},
   "outputs": [],
   "source": [
    "forecast_values = []\n",
    "for i in range(30):\n",
    "    value = mean[i]+np.random.normal(0,volatility[i])\n",
    "    forecast_values.append(value[0])"
   ]
  },
  {
   "cell_type": "code",
   "execution_count": 279,
   "metadata": {},
   "outputs": [
    {
     "name": "stdout",
     "output_type": "stream",
     "text": [
      "331.87786971538594\n"
     ]
    }
   ],
   "source": [
    "err = np.mean(np.power(test-forecast_values,2))\n",
    "print(err)"
   ]
  },
  {
   "cell_type": "code",
   "execution_count": 284,
   "metadata": {},
   "outputs": [
    {
     "data": {
      "text/plain": [
       "Text(0, 0.5, 'Price')"
      ]
     },
     "execution_count": 284,
     "metadata": {},
     "output_type": "execute_result"
    },
    {
     "data": {
      "image/png": "[encoded data removed]",
      "text/plain": [
       "<Figure size 720x360 with 1 Axes>"
      ]
     },
     "metadata": {
      "needs_background": "light"
     },
     "output_type": "display_data"
    }
   ],
   "source": [
    "plt.figure(figsize=(10,5))\n",
    "true, = plt.plot(test)\n",
    "preds, = plt.plot(forecast_values[1:])\n",
    "plt.title('Rolling Forecast of TOPIX')\n",
    "plt.legend(['True price', 'Predicted price'])\n",
    "plt.xlabel('Date (0=2020/11/2, 30=2020/12/16)')\n",
    "plt.ylabel('Price')"
   ]
  },
  {
   "cell_type": "markdown",
   "metadata": {},
   "source": [
    "### DRAFTS"
   ]
  },
  {
   "cell_type": "code",
   "execution_count": null,
   "metadata": {},
   "outputs": [],
   "source": [
    "# # plt.figure(figsize=(40,60))\n",
    "# fig, axs = plt.subplots(3, 2,figsize=(20,10))\n",
    "# axs[0, 0].plot(dates,nintendo)\n",
    "# axs[0, 0].set_title('NINTENDO CO., LTD.')\n",
    "# axs[0, 1].plot(dates,sony,'tab:orange')\n",
    "# axs[0, 1].set_title('SONY CORP.')\n",
    "# axs[1, 0].plot(dates,square,'tab:green')\n",
    "# axs[1, 0].set_title('SQUARE ENIX HOLDINGS CO., LTD.')\n",
    "# axs[1, 1].plot(dates,sega,'tab:red')\n",
    "# axs[1, 1].set_title('SEGA SAMMY HOLDINGS INC.')\n",
    "# axs[2, 0].plot(dates,bandai,'tab:brown')\n",
    "# axs[2, 0].set_title('BANDAI NAMCO HOLDINGS INC.')\n",
    "# axs[2, 1].plot(dates,konami,'tab:purple')\n",
    "# axs[2, 1].set_title('KONAMI HOLDINGS CORP.')\n",
    "\n",
    "# for ax in axs.flat:\n",
    "#     ax.set(xlabel='Date', ylabel='Price')\n",
    "# for ax in axs.flat:\n",
    "#     ax.label_outer()\n",
    "\n",
    "    \n",
    "# def returns(series=prices):\n",
    "#     ret = []\n",
    "#     for i in range(1,len(series)):\n",
    "#         ret.append((series[i]-series[i-1])/series[i-1])\n",
    "#     result = adfuller(pd.Series(ret))\n",
    "#     print('ADF Statistic: %f' % result[0])\n",
    "#     print('p-value: %f' % result[1])\n",
    "#     return ret\n",
    "\n",
    "# def best_arima(data):\n",
    "#     best_aic = 99999\n",
    "#     for p in range(6):\n",
    "#         for q in range(6):\n",
    "#             if p==0 and q==0:\n",
    "#                 pass\n",
    "#             else:\n",
    "#                 arima = ARIMA(data,order=(p,1,q)).fit(method='mle',trend='nc')\n",
    "#                 current_aic = arima.aic\n",
    "#                 if current_aic < best_aic:\n",
    "#                     best_aic = current_aic\n",
    "#                     best_arima = arima\n",
    "#     return best_arima\n",
    "\n",
    "# def best_arima(data):\n",
    "#     best_bic = 99999\n",
    "#     for p in range(6):\n",
    "#         for q in range(6):\n",
    "#             if p==0 and q==0:\n",
    "#                 pass\n",
    "#             else:\n",
    "#                 arima = ARIMA(data,order=(p,1,q)).fit(method='mle',trend='nc')\n",
    "#                 current_bic = arima.bic\n",
    "#                 if current_bic < best_bic:\n",
    "#                     best_bic = current_bic\n",
    "#                     best_arima = arima\n",
    "#     return best_arima"
   ]
  }
 ],
 "metadata": {
  "kernelspec": {
   "display_name": "Python 3",
   "language": "python",
   "name": "python3"
  },
  "language_info": {
   "codemirror_mode": {
    "name": "ipython",
    "version": 3
   },
   "file_extension": ".py",
   "mimetype": "text/x-python",
   "name": "python",
   "nbconvert_exporter": "python",
   "pygments_lexer": "ipython3",
   "version": "3.7.7"
  }
 },
 "nbformat": 4,
 "nbformat_minor": 4
}
